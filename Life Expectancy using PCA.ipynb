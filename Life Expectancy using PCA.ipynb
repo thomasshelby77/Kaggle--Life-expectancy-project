{
 "cells": [
  {
   "cell_type": "code",
   "execution_count": 2,
   "id": "58653cab",
   "metadata": {},
   "outputs": [],
   "source": [
    "# Performed PCA then applied ML algortihm to show the diversfied ways to solve problems with optimal eroor rates."
   ]
  },
  {
   "cell_type": "code",
   "execution_count": 1,
   "id": "3dba2b74",
   "metadata": {},
   "outputs": [
    {
     "name": "stdout",
     "output_type": "stream",
     "text": [
      "<class 'pandas.core.frame.DataFrame'>\n",
      "RangeIndex: 2938 entries, 0 to 2937\n",
      "Data columns (total 22 columns):\n",
      " #   Column                           Non-Null Count  Dtype  \n",
      "---  ------                           --------------  -----  \n",
      " 0   Country                          2938 non-null   object \n",
      " 1   Year                             2938 non-null   int64  \n",
      " 2   Status                           2938 non-null   object \n",
      " 3   Life expectancy                  2928 non-null   float64\n",
      " 4   Adult Mortality                  2928 non-null   float64\n",
      " 5   infant deaths                    2938 non-null   int64  \n",
      " 6   Alcohol                          2744 non-null   float64\n",
      " 7   percentage expenditure           2938 non-null   float64\n",
      " 8   Hepatitis B                      2385 non-null   float64\n",
      " 9   Measles                          2938 non-null   int64  \n",
      " 10   BMI                             2904 non-null   float64\n",
      " 11  under-five deaths                2938 non-null   int64  \n",
      " 12  Polio                            2919 non-null   float64\n",
      " 13  Total expenditure                2712 non-null   float64\n",
      " 14  Diphtheria                       2919 non-null   float64\n",
      " 15   HIV/AIDS                        2938 non-null   float64\n",
      " 16  GDP                              2490 non-null   float64\n",
      " 17  Population                       2286 non-null   float64\n",
      " 18   thinness  1-19 years            2904 non-null   float64\n",
      " 19   thinness 5-9 years              2904 non-null   float64\n",
      " 20  Income composition of resources  2771 non-null   float64\n",
      " 21  Schooling                        2775 non-null   float64\n",
      "dtypes: float64(16), int64(4), object(2)\n",
      "memory usage: 505.1+ KB\n"
     ]
    },
    {
     "data": {
      "image/png": "[encoded data removed]",
      "text/plain": [
       "<Figure size 432x288 with 1 Axes>"
      ]
     },
     "metadata": {
      "needs_background": "light"
     },
     "output_type": "display_data"
    }
   ],
   "source": [
    "import numpy as np\n",
    "import pandas as pd\n",
    "import matplotlib.pyplot as plt\n",
    "import seaborn as sns\n",
    "\n",
    "df = pd.read_csv('Life Expectancy Data.csv')\n",
    "\n",
    "df\n",
    "\n",
    "df.info()\n",
    "\n",
    "df.describe().transpose()\n",
    "\n",
    "df.shape\n",
    "\n",
    "def missing_values(df):\n",
    "    missing = df.isnull().sum().sort_values(ascending=False)\n",
    "    missing = missing[missing > 0]\n",
    "    missing_percent = (missing/len(df))*100\n",
    "    return pd.DataFrame({'Missing Values': missing, 'Missing Percentage': missing_percent})\n",
    "\n",
    "missing_values(df)\n",
    "\n",
    "def separate_features(df):\n",
    "    categorical_features = df.select_dtypes(include='object').columns\n",
    "    numerical_features = df.select_dtypes(exclude='object').columns\n",
    "    return [categorical_features, numerical_features]\n",
    "\n",
    "separate_features(df)\n",
    "\n",
    "df.corr()['Life expectancy '].sort_values()\n",
    "\n",
    "# Will drop Measels, Population, Year, due to very low correlation with life expectancy\n",
    "df = df.drop(['Measles ','Population','Year'],axis=1)\n",
    "\n",
    "# Fill these two columns - adult mortality and life expectancy,grouped by the country with mean or median \n",
    "df[df['Adult Mortality'].isnull()]\n",
    "\n",
    "df[df['Diphtheria '].isnull()]\n",
    "\n",
    "df[df['Country'] == 'Timor-Leste']\n",
    "\n",
    "# The rows of South Sudan have too many missing values and its a new country, hence dropping the rows.\n",
    "df = df[df.Country != 'South Sudan']\n",
    "\n",
    "missing_values(df)\n",
    "\n",
    "# Fill polio and deptheria columns, by grouping according to the country and fill them with the mean\n",
    "\n",
    "df[df[' BMI '].isnull()]\n",
    "\n",
    "df[' BMI '].plot()\n",
    "\n",
    "df[' thinness 5-9 years'].describe()\n",
    "\n",
    "df[df['Country']=='Sudan']\n",
    "\n",
    "# The whole Sudan coutnry has no data on BMI thinness and thickness, hence groupby them with Status and fill them \n",
    "\n",
    "df[' thinness  1-19 years'].mean()\n",
    "\n",
    "# 'thinness of 5-9' is unnecessary as 'thinness 1-19' has the same info, hence will drop one column\n",
    "\n",
    "df = df.drop(' thinness 5-9 years',axis=1)\n",
    "\n",
    "missing_values(df)\n",
    "\n",
    "df['Adult Mortality'] = df.groupby('Country')['Adult Mortality'].transform(lambda value: value.fillna(value.mean()))\n",
    "\n",
    "df['Life expectancy '] = df.groupby('Country')['Life expectancy '].transform(lambda value: value.fillna(value.mean()))\n",
    "\n",
    "df['Diphtheria '] = df.groupby('Country')['Diphtheria '].transform(lambda value: value.fillna(value.mean()))\n",
    "\n",
    "df['Polio'] = df.groupby('Country')['Polio'].transform(lambda value: value.fillna(value.mean()))\n",
    "\n",
    "df[' BMI '] = df.groupby('Status')[' BMI '].transform(lambda value: value.fillna(value.mean()))\n",
    "\n",
    "df[' thinness  1-19 years'] = df.groupby('Status')[' thinness  1-19 years'].transform(lambda value: value.fillna(value.mean()))\n",
    "\n",
    "\n",
    "separate_features(df)\n",
    "\n",
    "missing_values(df)\n",
    "\n",
    "df[df['Schooling'].isnull()].groupby('Country').describe().transpose()\n",
    "\n",
    "df.groupby('Status').describe()['Schooling']\n",
    "\n",
    "df.groupby('Status').describe()['Alcohol']\n",
    "\n",
    "df.groupby('Status').describe()['Total expenditure']\n",
    "\n",
    "# will groupby schooling with status and fill them with the mean, same with income compostiton, alcohol and total expenditure \n",
    "# same will be done with life expectancy and adult mortality as the missing values contain obscure countries with no mean \n",
    "df['Schooling'] = df.groupby('Status')['Schooling'].transform(lambda value: value.fillna(value.mean()))\n",
    "\n",
    "df['Income composition of resources'] = df.groupby('Status')['Income composition of resources'].transform(lambda value: value.fillna(value.mean()))\n",
    "\n",
    "df['Alcohol'] = df.groupby('Status')['Alcohol'].transform(lambda value: value.fillna(value.mean()))\n",
    "\n",
    "df['Life expectancy '] = df.groupby('Status')['Life expectancy '].transform(lambda value: value.fillna(value.mean()))\n",
    "\n",
    "df['Adult Mortality'] = df.groupby('Status')['Adult Mortality'].transform(lambda value: value.fillna(value.mean()))\n",
    "\n",
    "df['Total expenditure'] = df.groupby('Status')['Total expenditure'].transform(lambda value: value.fillna(value.mean()))\n",
    "\n",
    "missing_values(df)\n",
    "\n",
    "df['Hepatitis B'].describe()\n",
    "\n",
    "# hepatitis b has high standard deviation and has very low correlation with life expectancy, hence dropping it and dropping gdp\n",
    "df = df.drop('Hepatitis B',axis=1)\n",
    "\n",
    "\n",
    "df= df.drop('GDP',axis=1)\n",
    "\n",
    "missing_values(df)\n",
    "\n",
    "df\n",
    "\n",
    "df['Country'].nunique()\n",
    "\n",
    "df['Status'] = df['Status'].map({'Developing':0,'Developed':1})\n",
    "\n",
    "df\n",
    "\n",
    "df.groupby('Country').describe()['Life expectancy ']\n",
    "\n",
    "df['Life expectancy '].describe()\n",
    "\n",
    "grouped = df.groupby(['Country'])['Life expectancy '].mean()\n",
    "\n",
    "df['Countries_target_encoded'] = df['Country'].map(grouped)\n",
    "\n",
    "df\n",
    "\n",
    "df.corr()\n",
    "\n",
    "df = df.drop('Country',axis=1)\n",
    "\n",
    "X = df.drop('Life expectancy ',axis=1)\n",
    "y = df['Life expectancy ']"
   ]
  },
  {
   "cell_type": "code",
   "execution_count": 3,
   "id": "73e6efed",
   "metadata": {},
   "outputs": [
    {
     "data": {
      "text/html": [
       "<div>\n",
       "<style scoped>\n",
       "    .dataframe tbody tr th:only-of-type {\n",
       "        vertical-align: middle;\n",
       "    }\n",
       "\n",
       "    .dataframe tbody tr th {\n",
       "        vertical-align: top;\n",
       "    }\n",
       "\n",
       "    .dataframe thead th {\n",
       "        text-align: right;\n",
       "    }\n",
       "</style>\n",
       "<table border=\"1\" class=\"dataframe\">\n",
       "  <thead>\n",
       "    <tr style=\"text-align: right;\">\n",
       "      <th></th>\n",
       "      <th>Status</th>\n",
       "      <th>Adult Mortality</th>\n",
       "      <th>infant deaths</th>\n",
       "      <th>Alcohol</th>\n",
       "      <th>percentage expenditure</th>\n",
       "      <th>BMI</th>\n",
       "      <th>under-five deaths</th>\n",
       "      <th>Polio</th>\n",
       "      <th>Total expenditure</th>\n",
       "      <th>Diphtheria</th>\n",
       "      <th>HIV/AIDS</th>\n",
       "      <th>thinness  1-19 years</th>\n",
       "      <th>Income composition of resources</th>\n",
       "      <th>Schooling</th>\n",
       "      <th>Countries_target_encoded</th>\n",
       "    </tr>\n",
       "  </thead>\n",
       "  <tbody>\n",
       "    <tr>\n",
       "      <th>0</th>\n",
       "      <td>0</td>\n",
       "      <td>263.0</td>\n",
       "      <td>62</td>\n",
       "      <td>0.01</td>\n",
       "      <td>71.279624</td>\n",
       "      <td>19.1</td>\n",
       "      <td>83</td>\n",
       "      <td>6.0</td>\n",
       "      <td>8.16</td>\n",
       "      <td>65.0</td>\n",
       "      <td>0.1</td>\n",
       "      <td>17.2</td>\n",
       "      <td>0.479</td>\n",
       "      <td>10.1</td>\n",
       "      <td>58.19375</td>\n",
       "    </tr>\n",
       "    <tr>\n",
       "      <th>1</th>\n",
       "      <td>0</td>\n",
       "      <td>271.0</td>\n",
       "      <td>64</td>\n",
       "      <td>0.01</td>\n",
       "      <td>73.523582</td>\n",
       "      <td>18.6</td>\n",
       "      <td>86</td>\n",
       "      <td>58.0</td>\n",
       "      <td>8.18</td>\n",
       "      <td>62.0</td>\n",
       "      <td>0.1</td>\n",
       "      <td>17.5</td>\n",
       "      <td>0.476</td>\n",
       "      <td>10.0</td>\n",
       "      <td>58.19375</td>\n",
       "    </tr>\n",
       "    <tr>\n",
       "      <th>2</th>\n",
       "      <td>0</td>\n",
       "      <td>268.0</td>\n",
       "      <td>66</td>\n",
       "      <td>0.01</td>\n",
       "      <td>73.219243</td>\n",
       "      <td>18.1</td>\n",
       "      <td>89</td>\n",
       "      <td>62.0</td>\n",
       "      <td>8.13</td>\n",
       "      <td>64.0</td>\n",
       "      <td>0.1</td>\n",
       "      <td>17.7</td>\n",
       "      <td>0.470</td>\n",
       "      <td>9.9</td>\n",
       "      <td>58.19375</td>\n",
       "    </tr>\n",
       "    <tr>\n",
       "      <th>3</th>\n",
       "      <td>0</td>\n",
       "      <td>272.0</td>\n",
       "      <td>69</td>\n",
       "      <td>0.01</td>\n",
       "      <td>78.184215</td>\n",
       "      <td>17.6</td>\n",
       "      <td>93</td>\n",
       "      <td>67.0</td>\n",
       "      <td>8.52</td>\n",
       "      <td>67.0</td>\n",
       "      <td>0.1</td>\n",
       "      <td>17.9</td>\n",
       "      <td>0.463</td>\n",
       "      <td>9.8</td>\n",
       "      <td>58.19375</td>\n",
       "    </tr>\n",
       "    <tr>\n",
       "      <th>4</th>\n",
       "      <td>0</td>\n",
       "      <td>275.0</td>\n",
       "      <td>71</td>\n",
       "      <td>0.01</td>\n",
       "      <td>7.097109</td>\n",
       "      <td>17.2</td>\n",
       "      <td>97</td>\n",
       "      <td>68.0</td>\n",
       "      <td>7.87</td>\n",
       "      <td>68.0</td>\n",
       "      <td>0.1</td>\n",
       "      <td>18.2</td>\n",
       "      <td>0.454</td>\n",
       "      <td>9.5</td>\n",
       "      <td>58.19375</td>\n",
       "    </tr>\n",
       "    <tr>\n",
       "      <th>...</th>\n",
       "      <td>...</td>\n",
       "      <td>...</td>\n",
       "      <td>...</td>\n",
       "      <td>...</td>\n",
       "      <td>...</td>\n",
       "      <td>...</td>\n",
       "      <td>...</td>\n",
       "      <td>...</td>\n",
       "      <td>...</td>\n",
       "      <td>...</td>\n",
       "      <td>...</td>\n",
       "      <td>...</td>\n",
       "      <td>...</td>\n",
       "      <td>...</td>\n",
       "      <td>...</td>\n",
       "    </tr>\n",
       "    <tr>\n",
       "      <th>2933</th>\n",
       "      <td>0</td>\n",
       "      <td>723.0</td>\n",
       "      <td>27</td>\n",
       "      <td>4.36</td>\n",
       "      <td>0.000000</td>\n",
       "      <td>27.1</td>\n",
       "      <td>42</td>\n",
       "      <td>67.0</td>\n",
       "      <td>7.13</td>\n",
       "      <td>65.0</td>\n",
       "      <td>33.6</td>\n",
       "      <td>9.4</td>\n",
       "      <td>0.407</td>\n",
       "      <td>9.2</td>\n",
       "      <td>50.48750</td>\n",
       "    </tr>\n",
       "    <tr>\n",
       "      <th>2934</th>\n",
       "      <td>0</td>\n",
       "      <td>715.0</td>\n",
       "      <td>26</td>\n",
       "      <td>4.06</td>\n",
       "      <td>0.000000</td>\n",
       "      <td>26.7</td>\n",
       "      <td>41</td>\n",
       "      <td>7.0</td>\n",
       "      <td>6.52</td>\n",
       "      <td>68.0</td>\n",
       "      <td>36.7</td>\n",
       "      <td>9.8</td>\n",
       "      <td>0.418</td>\n",
       "      <td>9.5</td>\n",
       "      <td>50.48750</td>\n",
       "    </tr>\n",
       "    <tr>\n",
       "      <th>2935</th>\n",
       "      <td>0</td>\n",
       "      <td>73.0</td>\n",
       "      <td>25</td>\n",
       "      <td>4.43</td>\n",
       "      <td>0.000000</td>\n",
       "      <td>26.3</td>\n",
       "      <td>40</td>\n",
       "      <td>73.0</td>\n",
       "      <td>6.53</td>\n",
       "      <td>71.0</td>\n",
       "      <td>39.8</td>\n",
       "      <td>1.2</td>\n",
       "      <td>0.427</td>\n",
       "      <td>10.0</td>\n",
       "      <td>50.48750</td>\n",
       "    </tr>\n",
       "    <tr>\n",
       "      <th>2936</th>\n",
       "      <td>0</td>\n",
       "      <td>686.0</td>\n",
       "      <td>25</td>\n",
       "      <td>1.72</td>\n",
       "      <td>0.000000</td>\n",
       "      <td>25.9</td>\n",
       "      <td>39</td>\n",
       "      <td>76.0</td>\n",
       "      <td>6.16</td>\n",
       "      <td>75.0</td>\n",
       "      <td>42.1</td>\n",
       "      <td>1.6</td>\n",
       "      <td>0.427</td>\n",
       "      <td>9.8</td>\n",
       "      <td>50.48750</td>\n",
       "    </tr>\n",
       "    <tr>\n",
       "      <th>2937</th>\n",
       "      <td>0</td>\n",
       "      <td>665.0</td>\n",
       "      <td>24</td>\n",
       "      <td>1.68</td>\n",
       "      <td>0.000000</td>\n",
       "      <td>25.5</td>\n",
       "      <td>39</td>\n",
       "      <td>78.0</td>\n",
       "      <td>7.10</td>\n",
       "      <td>78.0</td>\n",
       "      <td>43.5</td>\n",
       "      <td>11.0</td>\n",
       "      <td>0.434</td>\n",
       "      <td>9.8</td>\n",
       "      <td>50.48750</td>\n",
       "    </tr>\n",
       "  </tbody>\n",
       "</table>\n",
       "<p>2922 rows × 15 columns</p>\n",
       "</div>"
      ],
      "text/plain": [
       "      Status  Adult Mortality  infant deaths  Alcohol  percentage expenditure  \\\n",
       "0          0            263.0             62     0.01               71.279624   \n",
       "1          0            271.0             64     0.01               73.523582   \n",
       "2          0            268.0             66     0.01               73.219243   \n",
       "3          0            272.0             69     0.01               78.184215   \n",
       "4          0            275.0             71     0.01                7.097109   \n",
       "...      ...              ...            ...      ...                     ...   \n",
       "2933       0            723.0             27     4.36                0.000000   \n",
       "2934       0            715.0             26     4.06                0.000000   \n",
       "2935       0             73.0             25     4.43                0.000000   \n",
       "2936       0            686.0             25     1.72                0.000000   \n",
       "2937       0            665.0             24     1.68                0.000000   \n",
       "\n",
       "       BMI   under-five deaths   Polio  Total expenditure  Diphtheria   \\\n",
       "0      19.1                  83    6.0               8.16         65.0   \n",
       "1      18.6                  86   58.0               8.18         62.0   \n",
       "2      18.1                  89   62.0               8.13         64.0   \n",
       "3      17.6                  93   67.0               8.52         67.0   \n",
       "4      17.2                  97   68.0               7.87         68.0   \n",
       "...     ...                 ...    ...                ...          ...   \n",
       "2933   27.1                  42   67.0               7.13         65.0   \n",
       "2934   26.7                  41    7.0               6.52         68.0   \n",
       "2935   26.3                  40   73.0               6.53         71.0   \n",
       "2936   25.9                  39   76.0               6.16         75.0   \n",
       "2937   25.5                  39   78.0               7.10         78.0   \n",
       "\n",
       "       HIV/AIDS   thinness  1-19 years  Income composition of resources  \\\n",
       "0           0.1                   17.2                            0.479   \n",
       "1           0.1                   17.5                            0.476   \n",
       "2           0.1                   17.7                            0.470   \n",
       "3           0.1                   17.9                            0.463   \n",
       "4           0.1                   18.2                            0.454   \n",
       "...         ...                    ...                              ...   \n",
       "2933       33.6                    9.4                            0.407   \n",
       "2934       36.7                    9.8                            0.418   \n",
       "2935       39.8                    1.2                            0.427   \n",
       "2936       42.1                    1.6                            0.427   \n",
       "2937       43.5                   11.0                            0.434   \n",
       "\n",
       "      Schooling  Countries_target_encoded  \n",
       "0          10.1                  58.19375  \n",
       "1          10.0                  58.19375  \n",
       "2           9.9                  58.19375  \n",
       "3           9.8                  58.19375  \n",
       "4           9.5                  58.19375  \n",
       "...         ...                       ...  \n",
       "2933        9.2                  50.48750  \n",
       "2934        9.5                  50.48750  \n",
       "2935       10.0                  50.48750  \n",
       "2936        9.8                  50.48750  \n",
       "2937        9.8                  50.48750  \n",
       "\n",
       "[2922 rows x 15 columns]"
      ]
     },
     "execution_count": 3,
     "metadata": {},
     "output_type": "execute_result"
    }
   ],
   "source": [
    "X"
   ]
  },
  {
   "cell_type": "code",
   "execution_count": 5,
   "id": "0f455f46",
   "metadata": {},
   "outputs": [],
   "source": [
    "from sklearn.decomposition import PCA"
   ]
  },
  {
   "cell_type": "code",
   "execution_count": 12,
   "id": "f31b2527",
   "metadata": {},
   "outputs": [],
   "source": [
    "explained_Varaince = []\n",
    "for n in range(1,16):\n",
    "    \n",
    "    pca_mod = PCA(n_components=n)\n",
    "    pca_mod.fit_transform(X)\n",
    "    explained_Varaince.append(np.sum(pca_mod.explained_variance_ratio_))"
   ]
  },
  {
   "cell_type": "code",
   "execution_count": 13,
   "id": "321737ff",
   "metadata": {},
   "outputs": [
    {
     "data": {
      "text/plain": [
       "[<matplotlib.lines.Line2D at 0x268d1a29c40>]"
      ]
     },
     "execution_count": 13,
     "metadata": {},
     "output_type": "execute_result"
    },
    {
     "data": {
      "image/png": "[encoded data removed]",
      "text/plain": [
       "<Figure size 432x288 with 1 Axes>"
      ]
     },
     "metadata": {
      "needs_background": "light"
     },
     "output_type": "display_data"
    }
   ],
   "source": [
    "plt.plot(range(0,15),explained_Varaince)"
   ]
  },
  {
   "cell_type": "code",
   "execution_count": 44,
   "id": "705d15e3",
   "metadata": {},
   "outputs": [],
   "source": [
    "# Selecting the optimal number of n_components \n",
    "pca_mod = PCA(n_components=7)\n",
    "dataset = pca_mod.fit_transform(X)"
   ]
  },
  {
   "cell_type": "code",
   "execution_count": 45,
   "id": "8762d219",
   "metadata": {},
   "outputs": [
    {
     "data": {
      "text/plain": [
       "array([9.86211379e-01, 9.85239608e-03, 3.57500169e-03, 2.06180258e-04,\n",
       "       7.65233380e-05, 4.49360708e-05, 1.44320724e-05])"
      ]
     },
     "execution_count": 45,
     "metadata": {},
     "output_type": "execute_result"
    }
   ],
   "source": [
    "pca_mod.explained_variance_ratio_"
   ]
  },
  {
   "cell_type": "code",
   "execution_count": 46,
   "id": "211619ba",
   "metadata": {},
   "outputs": [
    {
     "data": {
      "text/plain": [
       "(2922,)"
      ]
     },
     "execution_count": 46,
     "metadata": {},
     "output_type": "execute_result"
    }
   ],
   "source": [
    "y.shape"
   ]
  },
  {
   "cell_type": "code",
   "execution_count": 74,
   "id": "e99ae248",
   "metadata": {},
   "outputs": [],
   "source": [
    "# applying ML algortihm after going through PCA\n",
    "from sklearn.ensemble import RandomForestRegressor\n",
    "rfr = RandomForestRegressor(n_estimators=200,n_jobs=-1)"
   ]
  },
  {
   "cell_type": "code",
   "execution_count": 48,
   "id": "cb836a9b",
   "metadata": {},
   "outputs": [],
   "source": [
    "from sklearn.model_selection import train_test_split"
   ]
  },
  {
   "cell_type": "code",
   "execution_count": 49,
   "id": "02f04dc2",
   "metadata": {},
   "outputs": [],
   "source": [
    "X_train, X_test, y_train, y_test = train_test_split(dataset, y, test_size=0.25, random_state=42)"
   ]
  },
  {
   "cell_type": "code",
   "execution_count": 50,
   "id": "06cfbb76",
   "metadata": {},
   "outputs": [
    {
     "data": {
      "text/plain": [
       "RandomForestRegressor()"
      ]
     },
     "execution_count": 50,
     "metadata": {},
     "output_type": "execute_result"
    }
   ],
   "source": [
    "rfr.fit(X_train,y_train)"
   ]
  },
  {
   "cell_type": "code",
   "execution_count": 51,
   "id": "27e66544",
   "metadata": {},
   "outputs": [],
   "source": [
    "preds = rfr.predict(X_test)"
   ]
  },
  {
   "cell_type": "code",
   "execution_count": 52,
   "id": "3c400c35",
   "metadata": {},
   "outputs": [],
   "source": [
    "from sklearn.metrics import mean_absolute_error,mean_squared_error"
   ]
  },
  {
   "cell_type": "code",
   "execution_count": 53,
   "id": "21239106",
   "metadata": {},
   "outputs": [],
   "source": [
    "mae = mean_absolute_error(y_test,preds)"
   ]
  },
  {
   "cell_type": "code",
   "execution_count": 54,
   "id": "a4d9a0ff",
   "metadata": {},
   "outputs": [
    {
     "data": {
      "text/plain": [
       "1.526002975376197"
      ]
     },
     "execution_count": 54,
     "metadata": {},
     "output_type": "execute_result"
    }
   ],
   "source": [
    "mae"
   ]
  },
  {
   "cell_type": "code",
   "execution_count": 55,
   "id": "def61bb0",
   "metadata": {},
   "outputs": [
    {
     "data": {
      "text/plain": [
       "2.1498667977854384"
      ]
     },
     "execution_count": 55,
     "metadata": {},
     "output_type": "execute_result"
    }
   ],
   "source": [
    "mean_squared_error(y_test,preds)**0.5"
   ]
  },
  {
   "cell_type": "code",
   "execution_count": 56,
   "id": "0a9f4314",
   "metadata": {},
   "outputs": [
    {
     "data": {
      "text/plain": [
       "2.201959282230797"
      ]
     },
     "execution_count": 56,
     "metadata": {},
     "output_type": "execute_result"
    }
   ],
   "source": [
    "mae/np.mean(y)*100"
   ]
  },
  {
   "cell_type": "code",
   "execution_count": 57,
   "id": "1ce2e2a6",
   "metadata": {},
   "outputs": [],
   "source": [
    "from sklearn.preprocessing import StandardScaler\n",
    "scaler = StandardScaler()"
   ]
  },
  {
   "cell_type": "code",
   "execution_count": 75,
   "id": "5e9ef489",
   "metadata": {},
   "outputs": [],
   "source": [
    "error_Perc_train = []\n",
    "error_Perc_test = []\n",
    "for n in range(1,16):\n",
    "    pca_mod = PCA(n_components=n)\n",
    "    dataset = pca_mod.fit_transform(X)\n",
    "    X_train, X_test, y_train, y_test = train_test_split(dataset, y, test_size=0.25, random_state=42)\n",
    "    \n",
    "    scaled_xtrain = scaler.fit_transform(X_train)\n",
    "    scaled_xtest = scaler.transform(X_test)\n",
    "    \n",
    "    rfr.fit(X_train,y_train)\n",
    "    \n",
    "    train_preds = rfr.predict(X_train)\n",
    "    train_mae = mean_absolute_error(y_train,train_preds)\n",
    "    error_Perc_train.append(train_mae/np.mean(y)*100)\n",
    "    \n",
    "    preds = rfr.predict(X_test)\n",
    "    test_mae = mean_absolute_error(y_test,preds)\n",
    "    error_Perc_test.append(test_mae/np.mean(y)*100)\n",
    "    "
   ]
  },
  {
   "cell_type": "code",
   "execution_count": 76,
   "id": "68cb82d5",
   "metadata": {},
   "outputs": [
    {
     "data": {
      "text/plain": [
       "[<matplotlib.lines.Line2D at 0x268d7735cd0>]"
      ]
     },
     "execution_count": 76,
     "metadata": {},
     "output_type": "execute_result"
    },
    {
     "data": {
      "image/png": "[encoded data removed]",
      "text/plain": [
       "<Figure size 432x288 with 1 Axes>"
      ]
     },
     "metadata": {
      "needs_background": "light"
     },
     "output_type": "display_data"
    }
   ],
   "source": [
    "plt.plot(range(1,16),error_Perc_train)"
   ]
  },
  {
   "cell_type": "code",
   "execution_count": 77,
   "id": "9fed362b",
   "metadata": {},
   "outputs": [
    {
     "data": {
      "text/plain": [
       "[<matplotlib.lines.Line2D at 0x268d776a5e0>]"
      ]
     },
     "execution_count": 77,
     "metadata": {},
     "output_type": "execute_result"
    },
    {
     "data": {
      "image/png": "[encoded data removed]",
      "text/plain": [
       "<Figure size 432x288 with 1 Axes>"
      ]
     },
     "metadata": {
      "needs_background": "light"
     },
     "output_type": "display_data"
    }
   ],
   "source": [
    "plt.plot(range(1,16),error_Perc_test)"
   ]
  },
  {
   "cell_type": "code",
   "execution_count": 78,
   "id": "b6e45d5e",
   "metadata": {},
   "outputs": [
    {
     "data": {
      "text/plain": [
       "[3.3505124048017665,\n",
       " 2.0670329027528376,\n",
       " 1.0820774319932447,\n",
       " 0.9812091665742907,\n",
       " 0.932659591749709,\n",
       " 0.9278275637658272,\n",
       " 0.8811236653674716,\n",
       " 0.7822015335662313,\n",
       " 0.7672638177831772,\n",
       " 0.7643695201528006,\n",
       " 0.7643717801953841,\n",
       " 0.7619061663501131,\n",
       " 0.7672176361893734,\n",
       " 0.7538268643983496,\n",
       " 0.7479263540845036]"
      ]
     },
     "execution_count": 78,
     "metadata": {},
     "output_type": "execute_result"
    }
   ],
   "source": [
    "error_Perc_train"
   ]
  },
  {
   "cell_type": "code",
   "execution_count": 79,
   "id": "97da7ad3",
   "metadata": {},
   "outputs": [
    {
     "data": {
      "text/plain": [
       "[8.979019067297479,\n",
       " 5.473388949408569,\n",
       " 2.968779881382372,\n",
       " 2.598479050019505,\n",
       " 2.4455429478160386,\n",
       " 2.4388907247577,\n",
       " 2.2123385477973865,\n",
       " 1.9179539881947112,\n",
       " 1.919131556907653,\n",
       " 1.9586411242555508,\n",
       " 1.9263265648731283,\n",
       " 1.935802531626227,\n",
       " 1.890576253280612,\n",
       " 1.839576229480977,\n",
       " 1.8097813647759526]"
      ]
     },
     "execution_count": 79,
     "metadata": {},
     "output_type": "execute_result"
    }
   ],
   "source": [
    "error_Perc_test"
   ]
  },
  {
   "cell_type": "code",
   "execution_count": null,
   "id": "da2e7f72",
   "metadata": {},
   "outputs": [],
   "source": [
    "# Performed PCA then applied ML algortihm to show the diversfied ways to solve problems with optimal eroor rates."
   ]
  }
 ],
 "metadata": {
  "kernelspec": {
   "display_name": "Python 3 (ipykernel)",
   "language": "python",
   "name": "python3"
  },
  "language_info": {
   "codemirror_mode": {
    "name": "ipython",
    "version": 3
   },
   "file_extension": ".py",
   "mimetype": "text/x-python",
   "name": "python",
   "nbconvert_exporter": "python",
   "pygments_lexer": "ipython3",
   "version": "3.9.12"
  }
 },
 "nbformat": 4,
 "nbformat_minor": 5
}
